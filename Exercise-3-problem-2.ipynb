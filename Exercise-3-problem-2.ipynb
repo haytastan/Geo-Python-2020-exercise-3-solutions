{
 "cells": [
  {
   "cell_type": "markdown",
   "metadata": {},
   "source": [
    "## Problem 2 - Classifying temperatures (*8 points*)\n",
    "\n",
    "### Overview\n",
    "\n",
    "This problem is meant to introduce you to the very common and useful concept of data classification.\n",
    "In this problem your aim is to classify daily temperatures (in degrees Celsius) stored in the `temperatures` list into four different classes:\n",
    "\n",
    "- **Cold**: Temperatures below -2 degrees\n",
    "- **Slippery**: Temperatures equal to or warmer than -2 degrees and up to +2 degrees\n",
    "- **Comfortable**: Temperatures equal to or warmer than +2 degrees and up to +15 degrees\n",
    "- **Warm**: Temperatures warmer than +15 degrees\n",
    "\n",
    "To solve this problem, you should modify and fill in the missing parts in the following cells.\n",
    "\n",
    "**Notice**: Closely follow the instructions! For example, you should be sure to use **exactly** the same variable names mentioned in the instructions because your answers will be automatically graded, and the tests that grade your answers rely on following the same formatting or variable naming as in the instructions.\n",
    "\n",
    "**Your score on this problem will be based on following criteria:**\n",
    "\n",
    " - Using a for loop to iterate over the temperature values\n",
    " - Using conditional statements to find out if a value is within certain value range (class)\n",
    " - Printing information for the user\n",
    " - Including comments that explain what most lines in the code do\n",
    " - Uploading your notebook to your GitHub repository for this week's exercise"
   ]
  },
  {
   "cell_type": "markdown",
   "metadata": {
    "deletable": false,
    "editable": false,
    "nbgrader": {
     "cell_type": "markdown",
     "checksum": "a9c79de7790d7ce3ce01173e176bd8af",
     "grade": false,
     "grade_id": "cell-ea6af1904d783269",
     "locked": true,
     "schema_version": 3,
     "solution": false
    }
   },
   "source": [
    "### Data\n",
    "\n",
    "The data for this problem comprise a list of night-time, daytime and evening temperatures for April 2013 recorded at the Helsinki Malmi Airport. The list contains 90 values since there are 3 values for each day (April has 30 days). The first value of a given day represents night, the second one is for the daytime, and the third one is for the evening temperature."
   ]
  },
  {
   "cell_type": "code",
   "execution_count": null,
   "metadata": {
    "deletable": false,
    "editable": false,
    "nbgrader": {
     "cell_type": "code",
     "checksum": "25a39203024a788fe4c532454c5b74ff",
     "grade": false,
     "grade_id": "cell-ecd9721955db9637",
     "locked": true,
     "schema_version": 3,
     "solution": false
    }
   },
   "outputs": [],
   "source": [
    "temperatures = [-5.4, 1.0, -1.3, -4.8, 3.9, 0.1, -4.4, 4.0, -2.2, -3.9, 4.4,\n",
    "                -2.5, -4.6, 5.1, 2.1, -2.4, 1.9, -3.3, -4.8, 1.0, -0.8, -2.8,\n",
    "                -0.1, -4.7, -5.6, 2.6, -2.7, -4.6, 3.4, -0.4, -0.9, 3.1, 2.4,\n",
    "                1.6, 4.2, 3.5, 2.6, 3.1, 2.2, 1.8, 3.3, 1.6, 1.5, 4.7, 4.0,\n",
    "                3.6, 4.9, 4.8, 5.3, 5.6, 4.1, 3.7, 7.6, 6.9, 5.1, 6.4, 3.8,\n",
    "                4.0, 8.6, 4.1, 1.4, 8.9, 3.0, 1.6, 8.5, 4.7, 6.6, 8.1, 4.5,\n",
    "                4.8, 11.3, 4.7, 5.2, 11.5, 6.2, 2.9, 4.3, 2.8, 2.8, 6.3, 2.6,\n",
    "                -0.0, 7.3, 3.4, 4.7, 9.3, 6.4, 5.4, 7.6, 5.2]"
   ]
  },
  {
   "cell_type": "markdown",
   "metadata": {
    "deletable": false,
    "editable": false,
    "nbgrader": {
     "cell_type": "markdown",
     "checksum": "9942c686532220fb7bd863c99b0efb0f",
     "grade": false,
     "grade_id": "cell-762b7d4f3ec9210d",
     "locked": true,
     "schema_version": 3,
     "solution": false
    }
   },
   "source": [
    "### Part 1 (*0.5 points*)\n",
    "\n",
    "- Create four empty lists for the different temperature classes:\n",
    "\n",
    "    - `cold`\n",
    "    - `slippery`\n",
    "    - `comfortable`\n",
    "    - `warm`\n",
    "  \n",
    "Be careful to use these **exact** names for your lists."
   ]
  },
  {
   "cell_type": "code",
   "execution_count": null,
   "metadata": {
    "deletable": false,
    "nbgrader": {
     "cell_type": "code",
     "checksum": "b17051e815a05fef23438da93ceebcdc",
     "grade": false,
     "grade_id": "temp_lists",
     "locked": false,
     "schema_version": 3,
     "solution": true
    }
   },
   "outputs": [],
   "source": [
    "# YOUR CODE HERE\n",
    "raise NotImplementedError()"
   ]
  },
  {
   "cell_type": "code",
   "execution_count": null,
   "metadata": {
    "deletable": false,
    "editable": false,
    "nbgrader": {
     "cell_type": "code",
     "checksum": "4715437e57fa2459e499abee85e03c0c",
     "grade": true,
     "grade_id": "problem_2_temp_lists_tests",
     "locked": true,
     "points": 0.5,
     "schema_version": 3,
     "solution": false
    }
   },
   "outputs": [],
   "source": [
    "# Test print for all lists (they should be empty at this point)\n",
    "print(cold, slippery, comfortable, warm)\n"
   ]
  },
  {
   "cell_type": "markdown",
   "metadata": {
    "deletable": false,
    "editable": false,
    "nbgrader": {
     "cell_type": "markdown",
     "checksum": "027e314d1fb7f0e385f121e2ad6c34b0",
     "grade": false,
     "grade_id": "cell-15c382eeab374716",
     "locked": true,
     "schema_version": 3,
     "solution": false
    }
   },
   "source": [
    "### Part 2 (*5.5 points*)\n",
    "\n",
    "Iterate over the temperatures and add temperatures to the different temperature classes defined below:\n",
    "\n",
    "- **Cold**: Temperatures below -2 degrees\n",
    "- **Slippery**: Temperatures equal to or warmer than -2 degrees and up to +2 degrees\n",
    "- **Comfortable**: Temperatures equal to or warmer than +2 degrees and up to +15 degrees\n",
    "- **Warm**: Temperatures warmer than +15 degrees"
   ]
  },
  {
   "cell_type": "code",
   "execution_count": null,
   "metadata": {
    "deletable": false,
    "nbgrader": {
     "cell_type": "code",
     "checksum": "d9abdc39a7d79b4d420cbe1d9ac7f0ff",
     "grade": false,
     "grade_id": "temp_classes",
     "locked": false,
     "schema_version": 3,
     "solution": true
    }
   },
   "outputs": [],
   "source": [
    "# YOUR CODE HERE\n",
    "raise NotImplementedError()"
   ]
  },
  {
   "cell_type": "code",
   "execution_count": null,
   "metadata": {
    "deletable": false,
    "editable": false,
    "nbgrader": {
     "cell_type": "code",
     "checksum": "36160c06d36bd817202da94c87b9672f",
     "grade": true,
     "grade_id": "problem_2_temp_classes_tests",
     "locked": true,
     "points": 5.5,
     "schema_version": 3,
     "solution": false
    }
   },
   "outputs": [],
   "source": [
    "# Test prints for all lists (now they should contain values)\n",
    "print(cold, slippery, comfortable, warm)\n"
   ]
  },
  {
   "cell_type": "markdown",
   "metadata": {
    "deletable": false,
    "editable": false,
    "nbgrader": {
     "cell_type": "markdown",
     "checksum": "fa0d2bc1b5e5dd8ba6769eecec335fbb",
     "grade": false,
     "grade_id": "cell-1126e21066f72de8",
     "locked": true,
     "schema_version": 3,
     "solution": false
    }
   },
   "source": [
    "### Part 3 (*1 point*)\n",
    "\n",
    "Please answer the following questions by modifying the Python cells below:\n",
    "\n",
    "- How many times was it slippery during the study period?"
   ]
  },
  {
   "cell_type": "code",
   "execution_count": null,
   "metadata": {
    "deletable": false,
    "nbgrader": {
     "cell_type": "code",
     "checksum": "aa1223ed76d8dd41108b0f0f92fd4d2e",
     "grade": false,
     "grade_id": "slippery_times",
     "locked": false,
     "schema_version": 3,
     "solution": true
    }
   },
   "outputs": [],
   "source": [
    "# Edit the variable to find correct answer\n",
    "slippery_times = 'XXX'\n",
    "\n",
    "# YOUR CODE HERE\n",
    "raise NotImplementedError()"
   ]
  },
  {
   "cell_type": "code",
   "execution_count": null,
   "metadata": {
    "deletable": false,
    "editable": false,
    "nbgrader": {
     "cell_type": "code",
     "checksum": "e370c2cc87d0d8912852572ba6c49c6f",
     "grade": true,
     "grade_id": "problem_2_slippery_times_test",
     "locked": true,
     "points": 0.33,
     "schema_version": 3,
     "solution": false
    }
   },
   "outputs": [],
   "source": [
    "# Print the answer\n",
    "print(\"In April 2013 it was slippery\", slippery_times, \"times.\")\n"
   ]
  },
  {
   "cell_type": "markdown",
   "metadata": {
    "deletable": false,
    "editable": false,
    "nbgrader": {
     "cell_type": "markdown",
     "checksum": "d1fa64ea2fba9b3dd2f8af04e78ed7a5",
     "grade": false,
     "grade_id": "cell-373794962a4894e5",
     "locked": true,
     "schema_version": 3,
     "solution": false
    }
   },
   "source": [
    "\n",
    "- How many times was it warm during the study period?"
   ]
  },
  {
   "cell_type": "code",
   "execution_count": null,
   "metadata": {
    "deletable": false,
    "nbgrader": {
     "cell_type": "code",
     "checksum": "3ffecaf6c59da952e6eae15b28ace22a",
     "grade": false,
     "grade_id": "warm_times",
     "locked": false,
     "schema_version": 3,
     "solution": true
    }
   },
   "outputs": [],
   "source": [
    "# Edit the variable to find correct answer\n",
    "warm_times = 'XXX'\n",
    "\n",
    "# YOUR CODE HERE\n",
    "raise NotImplementedError()"
   ]
  },
  {
   "cell_type": "code",
   "execution_count": null,
   "metadata": {
    "deletable": false,
    "editable": false,
    "nbgrader": {
     "cell_type": "code",
     "checksum": "689b05451a8af2d94ecde5fbeaa9bbb3",
     "grade": true,
     "grade_id": "problem_2_warm_times_test",
     "locked": true,
     "points": 0.33,
     "schema_version": 3,
     "solution": false
    }
   },
   "outputs": [],
   "source": [
    "# Print the answer\n",
    "print(\"In April 2013 it was warm\", warm_times, \"times.\")\n"
   ]
  },
  {
   "cell_type": "markdown",
   "metadata": {
    "deletable": false,
    "editable": false,
    "nbgrader": {
     "cell_type": "markdown",
     "checksum": "5938f30a95b356c97a0a43bf86304669",
     "grade": false,
     "grade_id": "cell-b107b9404240484f",
     "locked": true,
     "schema_version": 3,
     "solution": false
    }
   },
   "source": [
    "- How many times was it cold during the study period?"
   ]
  },
  {
   "cell_type": "code",
   "execution_count": null,
   "metadata": {
    "deletable": false,
    "nbgrader": {
     "cell_type": "code",
     "checksum": "01181fab3c242c7e9286d6da27d7a31b",
     "grade": false,
     "grade_id": "cold_times",
     "locked": false,
     "schema_version": 3,
     "solution": true
    }
   },
   "outputs": [],
   "source": [
    "# Edit the variable to find correct answer\n",
    "cold_times = 'XXX'\n",
    "\n",
    "# YOUR CODE HERE\n",
    "raise NotImplementedError()"
   ]
  },
  {
   "cell_type": "code",
   "execution_count": null,
   "metadata": {
    "deletable": false,
    "editable": false,
    "nbgrader": {
     "cell_type": "code",
     "checksum": "0bd08022982c53d2ab88670d6f80c4a3",
     "grade": true,
     "grade_id": "problem_2_cold_times_test",
     "locked": true,
     "points": 0.34,
     "schema_version": 3,
     "solution": false
    }
   },
   "outputs": [],
   "source": [
    "# Print the answer\n",
    "print(\"In April 2013 it was cold\", cold_times, \"times.\")\n"
   ]
  },
  {
   "cell_type": "markdown",
   "metadata": {
    "deletable": false,
    "editable": false,
    "nbgrader": {
     "cell_type": "markdown",
     "checksum": "ef1b33cbb901bf104299a79021142675",
     "grade": false,
     "grade_id": "cell-5608b79175d15ce2",
     "locked": true,
     "schema_version": 3,
     "solution": false
    }
   },
   "source": [
    "### Part 4\n",
    "\n",
    "Here, we ask a few questions to make sure you have understand the concepts, etc. Answer shortly with a few sentences in the Markdown cell below.\n",
    "\n",
    "You can also write any feedback or questions concerning this problem in this Markdown cell.\n",
    "\n",
    "1. Is the concept of conditional statements clear to you? If not, what is difficult to understand?\n",
    "2. Did you include comments in your code blocks?\n",
    "  \n",
    "Write your answers below (double click to activate and edit the cell below)."
   ]
  },
  {
   "cell_type": "markdown",
   "metadata": {
    "deletable": false,
    "nbgrader": {
     "cell_type": "markdown",
     "checksum": "405876f4e1b54a7a983e9d037f0a800f",
     "grade": true,
     "grade_id": "problem_2_style_assessment",
     "locked": false,
     "points": 1,
     "schema_version": 3,
     "solution": true
    }
   },
   "source": [
    "YOUR ANSWER HERE"
   ]
  },
  {
   "cell_type": "markdown",
   "metadata": {
    "deletable": false,
    "editable": false,
    "nbgrader": {
     "cell_type": "markdown",
     "checksum": "73370a8ce79a0eb3199b2f48289964c0",
     "grade": false,
     "grade_id": "cell-90b7b78e0445d159",
     "locked": true,
     "schema_version": 3,
     "solution": false
    }
   },
   "source": [
    "### Done!\n",
    "\n",
    "That's it! Now you are ready to continue with [Problem 3](Exercise-3-problem-3.ipynb)."
   ]
  }
 ],
 "metadata": {
  "anaconda-cloud": {},
  "kernelspec": {
   "display_name": "Python 3",
   "language": "python",
   "name": "python3"
  },
  "language_info": {
   "codemirror_mode": {
    "name": "ipython",
    "version": 3
   },
   "file_extension": ".py",
   "mimetype": "text/x-python",
   "name": "python",
   "nbconvert_exporter": "python",
   "pygments_lexer": "ipython3",
   "version": "3.7.3"
  }
 },
 "nbformat": 4,
 "nbformat_minor": 2
}